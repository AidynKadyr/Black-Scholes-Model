{
 "cells": [
  {
   "cell_type": "markdown",
   "metadata": {},
   "source": [
    "$$d_1 = \\frac{ln\\frac{S_0}{X}+(r+\\frac{\\sigma ^2}{2})T}{\\sigma \\sqrt{T}}$$\n",
    "$$d_2 = \\frac{ln\\frac{S_0}{X}+(r-\\frac{\\sigma ^2}{2})T}{\\sigma \\sqrt{T}}$$\n",
    "$$ C_0 = S_0N(d_1) - Ke^{-rT}N(d_2) $$"
   ]
  },
  {
   "cell_type": "code",
   "execution_count": 2,
   "metadata": {},
   "outputs": [
    {
     "name": "stdout",
     "output_type": "stream",
     "text": [
      "By the Black-Scholes Model, price of the Call Option is: 4.115553973100759\n"
     ]
    }
   ],
   "source": [
    "import numpy as np\n",
    "import pandas as pd\n",
    "from scipy.stats import norm\n",
    "import pandas_datareader.data as web \n",
    "\n",
    "def d1(S, K, T, r, sigma):\n",
    "    d1 = (np.log(S/K) + (r + sigma**2 / 2) * T) / (sigma * np.sqrt(T))\n",
    "    return d1\n",
    "def d2(S, K, T, r, sigma):\n",
    "    d2 = (np.log(S/K) + (r - sigma**2 / 2) * T) / (sigma * np.sqrt(T))\n",
    "    return d2\n",
    "def Call(S, K, T, r, sigma):\n",
    "    Call = S * norm.cdf(d1(S, K, T, r, sigma)) - K * np.e ** (-r*T) * norm.cdf(d2(S, K, T, r, sigma))\n",
    "    return Call\n",
    "\n",
    "df = web.DataReader('WMT', 'yahoo','2020-03-24', '2021-03-26')\n",
    "df['logreturn'] = np.log (df['Close'] / df['Close'].shift(1))\n",
    "\n",
    "sigma = np.sqrt(252) * df['logreturn'].std()\n",
    "TB = web.DataReader('^TNX', 'yahoo','2020-03-24', '2021-03-26' ) #Treasury Bil yield data\n",
    "\n",
    "r = TB.Close.iloc[-1] / 100 # risk free interst rate\n",
    "S = df.Close.iloc[-1] # Current Price == Last Close Price\n",
    "K = 135  # Strike Price\n",
    "T = 35/365 # Option Expires at April 1 --> 35 days\n",
    "print('By the Black-Scholes Model, price of the Call Option is:', end = ' ')\n",
    "print(Call(S, K, T, r, sigma))"
   ]
  },
  {
   "cell_type": "code",
   "execution_count": 4,
   "metadata": {},
   "outputs": [
    {
     "name": "stdout",
     "output_type": "stream",
     "text": [
      "135.1300048828125 135 0.0958904109589041 0.01659999966621399 0.2364207716796307\n"
     ]
    }
   ],
   "source": [
    "print(S, K, T, r, sigma)"
   ]
  },
  {
   "cell_type": "code",
   "execution_count": 2,
   "metadata": {},
   "outputs": [],
   "source": [
    "import numpy as np\n",
    "import pandas as pd\n",
    "from scipy.stats import norm\n",
    "import pandas_datareader.data as web \n",
    "\n",
    "def d1(S, K, T, r, sigma):\n",
    "    d1 = (np.log(S/K) + (r -delta + 0.5*sigma**2) * T) / (sigma * np.sqrt(T))\n",
    "    return d1\n",
    "def d2(S, K, T, r, sigma):\n",
    "    d2 = (np.log(S/K) + (r -delta - 0.5*sigma**2) * T) / (sigma * np.sqrt(T))\n",
    "    return d2\n",
    "def Call(S, K, T, r, sigma):\n",
    "    return S * np.e**(-delta*T)* norm.cdf(d1(S, K, T, r, sigma))  - K * np.e ** (-r*T) * norm.cdf(d2(S, K, T, r, sigma))\n",
    "def Put(S, K, T, r, sigma):\n",
    "    return  -S* np.e**(-delta*T) *norm.cdf(-d1(S, K, T, r, sigma)) + K * np.e ** (-r*T) * norm.cdf(-d2(S, K, T, r, sigma))"
   ]
  },
  {
   "cell_type": "code",
   "execution_count": 3,
   "metadata": {},
   "outputs": [
    {
     "name": "stdout",
     "output_type": "stream",
     "text": [
      "7.557097856756798\n",
      "3.5983059871633074\n"
     ]
    }
   ],
   "source": [
    "r = 0.0516\n",
    "S =143.13\n",
    "K = 140\n",
    "T = 42/365\n",
    "sigma = 0.28\n",
    "delta = 0\n",
    "\n",
    "print(Call(S, K, T, r, sigma))\n",
    "print(Put(S, K, T, r, sigma))"
   ]
  },
  {
   "cell_type": "code",
   "execution_count": 14,
   "metadata": {},
   "outputs": [
    {
     "data": {
      "text/plain": [
       "0.784982946485151"
      ]
     },
     "execution_count": 14,
     "metadata": {},
     "output_type": "execute_result"
    }
   ],
   "source": [
    "norm.cdf(d2(S, K, T, r, sigma)) * np.e**(-r)"
   ]
  },
  {
   "cell_type": "code",
   "execution_count": 12,
   "metadata": {},
   "outputs": [
    {
     "data": {
      "text/plain": [
       "236.9317804263279"
      ]
     },
     "execution_count": 12,
     "metadata": {},
     "output_type": "execute_result"
    }
   ],
   "source": [
    "norm.cdf(d1(S, K, T, r, sigma))*S*np.e**(-delta)"
   ]
  },
  {
   "cell_type": "code",
   "execution_count": 17,
   "metadata": {},
   "outputs": [
    {
     "data": {
      "text/plain": [
       "5.296696925002253"
      ]
     },
     "execution_count": 17,
     "metadata": {},
     "output_type": "execute_result"
    }
   ],
   "source": [
    "Call(S, K, T, r, sigma) + 0.5*Put(S, K, T, r, sigma)"
   ]
  },
  {
   "cell_type": "code",
   "execution_count": 6,
   "metadata": {},
   "outputs": [
    {
     "data": {
      "text/plain": [
       "8.271160908108593"
      ]
     },
     "execution_count": 6,
     "metadata": {},
     "output_type": "execute_result"
    }
   ],
   "source": [
    "8*np.e**((8/12)*0.05)"
   ]
  },
  {
   "cell_type": "code",
   "execution_count": 1,
   "metadata": {},
   "outputs": [
    {
     "data": {
      "text/plain": [
       "4.113106599065805"
      ]
     },
     "execution_count": 1,
     "metadata": {},
     "output_type": "execute_result"
    }
   ],
   "source": [
    "def get_price_w_rf(right,T,S,X,v,rf,N=100000):\n",
    "    D = np.exp(-rf*(T/365))\n",
    "    prices = np.cumprod(1+(np.random.randn(T,N) * v/ np.sqrt(365)), axis=0)*S \n",
    "    if right == 'c':\n",
    "        return np.sum((prices[-1,:]-X*D)[prices[-1,:]>X*D])/prices.shape[1]\n",
    "    else:\n",
    "        return -np.sum((prices[-1,:]-X*D)[prices[-1,:]<X*D])/prices.shape[1]\n",
    "\n",
    "get_price_w_rf('c', 35,135.13 ,135 ,0.2364207716796307,0.01659)"
   ]
  },
  {
   "cell_type": "code",
   "execution_count": 2,
   "metadata": {},
   "outputs": [
    {
     "data": {
      "text/plain": [
       "4.018701937635613"
      ]
     },
     "execution_count": 2,
     "metadata": {},
     "output_type": "execute_result"
    }
   ],
   "source": [
    "import numpy as np\n",
    "\n",
    "S= 135.13\n",
    "T= 35/365\n",
    "r= 0.01659\n",
    "sigma= 0.2364207716796307\n",
    "Nsimulations= 5000\n",
    "Nsteps= 250\n",
    "K= 135\n",
    "\n",
    "dt= T/Nsteps\n",
    "\n",
    "drift= (r-(sigma**2)/2)*dt\n",
    "a= sigma*np.sqrt(dt)\n",
    "x= np.random.normal(0,1,(Nsimulations, Nsteps))\n",
    "\n",
    "\n",
    "Smat= np.zeros((Nsimulations, Nsteps))\n",
    "Smat[:, 0] += S\n",
    "\n",
    "for i in range(1, Nsteps):\n",
    "    Smat[:, i] += Smat[:, i-1]*np.exp(drift +a*x[:, i])\n",
    "\n",
    "\n",
    "q= Smat[:, -1]- K\n",
    "for i in range(len(q)):\n",
    "    if q[i]< 0:\n",
    "        q[i]= 0\n",
    "    else:\n",
    "        q[i]= q[i]\n",
    "\n",
    "p= K- Smat[:, -1]\n",
    "for i in range(len(p)):\n",
    "    if p[i]< 0:\n",
    "        p[i]= 0\n",
    "    else:\n",
    "        p[i]= p[i]\n",
    "\n",
    "payoff_call= np.mean(q)\n",
    "payoff_put= np.mean(p)\n",
    "\n",
    "call= payoff_call*np.exp(-r*T)\n",
    "put= payoff_put*np.exp(-r*T)\n",
    "\n",
    "call"
   ]
  },
  {
   "cell_type": "code",
   "execution_count": null,
   "metadata": {},
   "outputs": [],
   "source": []
  }
 ],
 "metadata": {
  "kernelspec": {
   "display_name": "Python 3 (ipykernel)",
   "language": "python",
   "name": "python3"
  },
  "language_info": {
   "codemirror_mode": {
    "name": "ipython",
    "version": 3
   },
   "file_extension": ".py",
   "mimetype": "text/x-python",
   "name": "python",
   "nbconvert_exporter": "python",
   "pygments_lexer": "ipython3",
   "version": "3.9.7"
  },
  "toc": {
   "base_numbering": 1,
   "nav_menu": {},
   "number_sections": true,
   "sideBar": true,
   "skip_h1_title": false,
   "title_cell": "Table of Contents",
   "title_sidebar": "Contents",
   "toc_cell": false,
   "toc_position": {},
   "toc_section_display": true,
   "toc_window_display": false
  },
  "varInspector": {
   "cols": {
    "lenName": 16,
    "lenType": 16,
    "lenVar": 40
   },
   "kernels_config": {
    "python": {
     "delete_cmd_postfix": "",
     "delete_cmd_prefix": "del ",
     "library": "var_list.py",
     "varRefreshCmd": "print(var_dic_list())"
    },
    "r": {
     "delete_cmd_postfix": ") ",
     "delete_cmd_prefix": "rm(",
     "library": "var_list.r",
     "varRefreshCmd": "cat(var_dic_list()) "
    }
   },
   "types_to_exclude": [
    "module",
    "function",
    "builtin_function_or_method",
    "instance",
    "_Feature"
   ],
   "window_display": false
  }
 },
 "nbformat": 4,
 "nbformat_minor": 2
}
